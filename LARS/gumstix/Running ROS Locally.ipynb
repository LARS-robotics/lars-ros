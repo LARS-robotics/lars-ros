{
 "metadata": {
  "name": "Running ROS Locally"
 },
 "nbformat": 3,
 "nbformat_minor": 0,
 "worksheets": [
  {
   "cells": [
    {
     "cell_type": "heading",
     "level": 2,
     "metadata": {},
     "source": [
      "Introduction"
     ]
    },
    {
     "cell_type": "markdown",
     "metadata": {},
     "source": [
      "This document describes the general use of ROS running locally on the Gumstix Overo. It assumes you are using the image decribed in Setting up Gumstix and have either killed or disabled the Create Server program (also described in the Setting up Gumstix document). "
     ]
    },
    {
     "cell_type": "heading",
     "level": 2,
     "metadata": {},
     "source": [
      "Steps"
     ]
    },
    {
     "cell_type": "markdown",
     "metadata": {},
     "source": [
      "First, you will begin by logging into the Overo with ssh multiple times. In the first connection you will want to run roscore. In the second, you will run the irobot create driver."
     ]
    },
    {
     "cell_type": "raw",
     "metadata": {},
     "source": [
      "# First Connection\n",
      "roscore\n",
      "\n",
      "#Second Connection\n",
      "rosrun irobot_create_2_1 driver.py "
     ]
    },
    {
     "cell_type": "markdown",
     "metadata": {},
     "source": [
      "The iRobot Create driver allows you to publish to the cmd_vel topic to give the robot linear and angular velocity commands. Your control code will publish to this topic."
     ]
    },
    {
     "cell_type": "heading",
     "level": 4,
     "metadata": {},
     "source": [
      "Warning: The Create will not turn itself on, you need to push the power button on the Create to power the Gumstix USB peripherals and to get the robot to move. The Gumstix Overo will be powered even if the Create is off.\n"
     ]
    },
    {
     "cell_type": "markdown",
     "metadata": {},
     "source": [
      "In the remaining connections you will run your own controllers, rosbag, or other programs for your experiment."
     ]
    }
   ],
   "metadata": {}
  }
 ]
}