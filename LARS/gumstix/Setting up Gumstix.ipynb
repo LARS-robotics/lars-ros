{
 "metadata": {
  "name": ""
 },
 "nbformat": 3,
 "nbformat_minor": 0,
 "worksheets": [
  {
   "cells": [
    {
     "cell_type": "heading",
     "level": 2,
     "metadata": {},
     "source": [
      "Introduction"
     ]
    },
    {
     "cell_type": "markdown",
     "metadata": {},
     "source": [
      "This document descirbes the process of setting up a Gumstix Overo to run Ubuntu with ROS and OpenCV. The first section uses a custom filesystem image to flash an SD card with almost everything already configured (networking, OpenCV, ROS). The remaining sections describe the process of customizing the image and adding it to the LARS system. "
     ]
    },
    {
     "cell_type": "heading",
     "level": 2,
     "metadata": {},
     "source": [
      "Installing the Preconfigured Image"
     ]
    },
    {
     "cell_type": "markdown",
     "metadata": {},
     "source": [
      "First, insert the SD card into the reader. Find out what the name of the sd card is using the disk utility (it will most likely be name /dev/sdc) and enter the commands:"
     ]
    },
    {
     "cell_type": "raw",
     "metadata": {},
     "source": [
      "# replace <DEVICE NAME> with the name of the SD card\n",
      "sudo umount /dev/<DEVICE NAME>{1,2,3}\n",
      "sudo dd if=/home/heckert/lars_linaro/overo-image of=/dev/<DEVICE NAME> bs=1M"
     ]
    },
    {
     "cell_type": "markdown",
     "metadata": {},
     "source": [
      "This should take around a half hour so go play a game of chess. You can then unmount the SD card and insert it into the Gumstix Overo and power it up. By default it will start up the Create Server program which is used by ROS on the workstation to control the robots. If you want to use ROS on the Gumstix Overo you will need to kill this process by logging into the Overo using ssh or screen and use the command:"
     ]
    },
    {
     "cell_type": "raw",
     "metadata": {},
     "source": [
      "kill PID"
     ]
    },
    {
     "cell_type": "markdown",
     "metadata": {},
     "source": [
      "Where PID is the process ID of the ubuntu_create process (this can be found using:"
     ]
    },
    {
     "cell_type": "raw",
     "metadata": {},
     "source": [
      "top \n",
      "# Then press these keys to get top to order the processes by name\n",
      "Shift-O\n",
      "x\n",
      "Enter"
     ]
    },
    {
     "cell_type": "markdown",
     "metadata": {},
     "source": [
      "You should find ubuntu_create under the COMMAND column, the process ID is under the PID column.\n",
      "\n",
      "If you want to stop ubuntu from automatically starting on every boot, rename the ubuntu_create file in the /home/linaro directory on the Overo. You can change it back to ubuntu_create whenever you wish to resume automatic running of the Create Server."
     ]
    },
    {
     "cell_type": "heading",
     "level": 2,
     "metadata": {},
     "source": [
      "Network Customization"
     ]
    },
    {
     "cell_type": "markdown",
     "metadata": {},
     "source": [
      "The image is preconfigured to connect to the gumstix network. In order to give it a static IP it is best to do this on the router itself. Put http://192.168.1.1 into your browser address box and login using the username and password written on the bottom of the router. Click \"Advanced Setup\" then click \"Setup\" on the left panel. A menu should expand below the setup button you just clicked. Click \"LAN Setup\", on this page you can reserve addresses for your new Overo. You will only need to know the MAC address of the Overo which can be found by logging into the Overo and running ifconfig.  "
     ]
    },
    {
     "cell_type": "heading",
     "level": 2,
     "metadata": {},
     "source": [
      "Logging Into the Gumstix Overo"
     ]
    },
    {
     "cell_type": "markdown",
     "metadata": {},
     "source": [
      "There are two ways of logging into the Overo: ssh and over a USB serial conection using screen."
     ]
    },
    {
     "cell_type": "heading",
     "level": 4,
     "metadata": {},
     "source": [
      "Using Screen"
     ]
    },
    {
     "cell_type": "markdown",
     "metadata": {},
     "source": [
      "To use screen plug a USB micro cable into the gumstix and type this command into your terminal: "
     ]
    },
    {
     "cell_type": "raw",
     "metadata": {},
     "source": [
      "screen /dev/ttyUSB0 115200"
     ]
    },
    {
     "cell_type": "heading",
     "level": 4,
     "metadata": {},
     "source": [
      "Using SSH"
     ]
    },
    {
     "cell_type": "markdown",
     "metadata": {},
     "source": [
      "Make sure you add your new robot to the ~/.ssh/config file so that all that must be done is:"
     ]
    },
    {
     "cell_type": "raw",
     "metadata": {},
     "source": [
      "ssh robotname\n",
      "# you may be prompted for a password which is simply 'gumstix'"
     ]
    },
    {
     "cell_type": "markdown",
     "metadata": {},
     "source": [
      "Note that the preconfigured image has already setup a private-public ssh key so you should not be asked for a password on every connection"
     ]
    },
    {
     "cell_type": "heading",
     "level": 4,
     "metadata": {},
     "source": [
      "Warning: The Create will not turn itself on, you need to push the power button on the Create to power the Gumstix USB peripherals and to get the robot to move. The Gumstix Overo will be powered even if the Create is off."
     ]
    }
   ],
   "metadata": {}
  }
 ]
}