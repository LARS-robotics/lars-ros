{
 "metadata": {
  "name": "Running the Vision Experiments"
 },
 "nbformat": 3,
 "nbformat_minor": 0,
 "worksheets": [
  {
   "cells": [
    {
     "cell_type": "heading",
     "level": 2,
     "metadata": {},
     "source": [
      "Introduction"
     ]
    },
    {
     "cell_type": "markdown",
     "metadata": {},
     "source": [
      "This document describes the entire process of running the adaptive following controller with vision based Localization locally on the Gumstix Overo."
     ]
    },
    {
     "cell_type": "heading",
     "level": 2,
     "metadata": {},
     "source": [
      "On The Gumstix Overo"
     ]
    },
    {
     "cell_type": "markdown",
     "metadata": {},
     "source": [
      "You will begin by logging into the Overo with ssh 5 times. In the first connection you will want to run roscore. In the second, you will run the irobot create driver. In the third, you will run the adaptive following controller. In the fourth, youi will run the vision based localization node. In the fifth, you will run rosbag to record your data. You will want to enter these commands but not run them just yet. "
     ]
    },
    {
     "cell_type": "heading",
     "level": 4,
     "metadata": {},
     "source": [
      "If you haven't already, make sure to kill the ubuntu_create process on this Create. (for more details see the Setting up Gumstix document)"
     ]
    },
    {
     "cell_type": "raw",
     "metadata": {},
     "source": [
      "# First Connection\n",
      "roscore\n",
      "\n",
      "# Second Connection\n",
      "rosrun irobot_create_2_1 driver.py \n",
      "\n",
      "# Third Connection\n",
      "rosrun vision_based_adaptive_following vision_based_adaptive_following_node\n",
      "\n",
      "# Fourth Connection\n",
      "rosrun vision_based_localization vision_based_localization_node\n",
      "\n",
      "# Fifth Connection\n",
      "rosbag record -a -O testname-gumstix.bag"
     ]
    },
    {
     "cell_type": "heading",
     "level": 2,
     "metadata": {},
     "source": [
      "On The Workstation"
     ]
    },
    {
     "cell_type": "markdown",
     "metadata": {},
     "source": [
      "Open three terminal tabs. In the first tab, you will run roscore. In the second, you will roslaunch vicon and the leader robot controller (Modify the ~/hydro_ws/src/adaptive_following/launch/adaptive_following.launch file to use the robots you are using). In the third, you will run rosbag. You will want to enter these commands but not run them just yet."
     ]
    },
    {
     "cell_type": "raw",
     "metadata": {},
     "source": [
      "# First Tab\n",
      "roscore\n",
      "\n",
      "# Second Tab \n",
      "roslaunch adaptive_following adaptive_following.launch \n",
      "\n",
      "# Third Tab\n",
      "rosbag record -a -O testname-workstation.bag"
     ]
    },
    {
     "cell_type": "heading",
     "level": 2,
     "metadata": {},
     "source": [
      "Running The Test"
     ]
    },
    {
     "cell_type": "markdown",
     "metadata": {},
     "source": [
      "Execute the commands in this order: \n",
      "<ul>\n",
      "    <li>Gumstix First Connection</li>\n",
      "    <li>Gumstix Second Connection</li>\n",
      "    <li>Gumstix Fourth Connection</li>\n",
      "    <li>Workstation First Tab</li>\n",
      "    <li>Workstation Second Tab (Be Ready to enable power to the leader in the dynamic configure popup)</li>\n",
      "    <li>Workstation Third Tab</li>\n",
      "    <li>Gumstix Fifth Connection</li>\n",
      "    <li>Gumstix Third Connection</li>\n",
      "    <li>Enable Power to Leader</li>\n",
      "</ul>\n",
      "\n"
     ]
    },
    {
     "cell_type": "markdown",
     "metadata": {},
     "source": [
      "Once you are ready to end the test end the rosbags first then end the rest in any order you wish. Copy the test files into a folder under the ~/Tests directory. You can then use the bagtocsv utility to extract the important information. "
     ]
    },
    {
     "cell_type": "raw",
     "metadata": {},
     "source": [
      "# in the ~/Tests/testname directory\n",
      "../bagtocsv testname-worstation.bag testname-gumstix.bag "
     ]
    }
   ],
   "metadata": {}
  }
 ]
}